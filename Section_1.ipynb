{
 "cells": [
  {
   "cell_type": "code",
   "execution_count": 72,
   "metadata": {},
   "outputs": [],
   "source": [
    "import numpy as np\n",
    "import pandas as pd\n",
    "from datetime import datetime\n",
    "from scipy.stats import zscore\n",
    "import statsmodels.api as sm\n",
    "import matplotlib.pyplot as plt\n",
    "from mpl_toolkits.basemap import Basemap\n",
    "from math import sin, cos, sqrt, atan2, radians\n",
    "from sklearn import datasets, linear_model\n",
    "from sklearn.metrics import mean_squared_error, r2_score"
   ]
  },
  {
   "cell_type": "code",
   "execution_count": null,
   "metadata": {},
   "outputs": [],
   "source": [
    "df = pd.read_csv(\"Arrest_Data_from_2010_to_Present.csv\", sep=\",\")"
   ]
  },
  {
   "cell_type": "code",
   "execution_count": 74,
   "metadata": {},
   "outputs": [
    {
     "name": "stdout",
     "output_type": "stream",
     "text": [
      "(104277, 18)\n"
     ]
    }
   ],
   "source": [
    "#1 How many bookings of arrestees were made in 2018?\n",
    "#df[\"Arrest Date\"] = df[\"Arrest Date\"].astype(\"datetime64[ns]\")\n",
    "df[\"Arrest Date\"] = pd.to_datetime(df['Arrest Date']) \n",
    "\n",
    "df['arrest_year'] = df['Arrest Date'].map(lambda x: x.strftime('%Y'))\n",
    "print(df[df.arrest_year == \"2018\"].shape) # Answer: 104277 (104277, 18)"
   ]
  },
  {
   "cell_type": "code",
   "execution_count": null,
   "metadata": {},
   "outputs": [],
   "source": [
    "#2 How many bookings of arrestees were made in the area with the most arrests in 2018?\n",
    "#df_2018 = df[df.arrest_year == \"2018\"]\n",
    "df_2018.groupby([\"Area ID\"]).size() # Answer: Area ID 1) 10951\n"
   ]
  },
  {
   "cell_type": "code",
   "execution_count": null,
   "metadata": {},
   "outputs": [],
   "source": [
    "#3 What is the 95% quantile of the age of the arrestee in 2018?\n",
    "#  Only consider the following charge groups for your analysis: Vehicle Theft, Robbery, Burglary, Receive Stolen Property\n",
    "#df_2018 = df[df.arrest_year == \"2018\"]\n",
    "#df_2018filtered = df_2018[df_2018['Charge Group Description'].isin([\"Vehicle Theft\", \"Robbery\", \"Burglary\", \"Receive Stolen Property\"])]\n",
    "\n",
    "df_2018filtered['Age'].describe()\n",
    "df_2018filtered['Age'].quantile([0, 0.05, 0.1, 0.15, 0.2, 0.25, 0.3, 0.35, 0.4, 0.45,  0.5, 0.55, 0.6, 0.65, 0.7, 0.75, 0.8, 0.85, 0.9, 0.95, 1])\n",
    "print(df_2018filtered['Age'].quantile(0.95)) # Answer: 52"
   ]
  },
  {
   "cell_type": "code",
   "execution_count": null,
   "metadata": {},
   "outputs": [],
   "source": [
    "#4 There are differences between the average age of an arrestee for the various charge groups. Are these differences statistically significant? For this question, calculate the Z-score of the average\n",
    "#  age for each charge group. Report the largest absolute value among the calculated Z-scores: Only consider data for 2018, Do not consider \"Pre-Delinquency\" and \"Non-Criminal Detention\" as these charge \n",
    "#  groups are reserved for minors, Exclude any arrests where the charge group description is not known\n",
    "\n",
    "df_2018 = df[df.arrest_year == \"2018\"]\n",
    "df_2018filtered = df_2018.loc[~df_2018['Charge Group Description'].isin([\"Non-Criminal Detention\",\"Pre-Delinquency\"])] # exclude charge groups reserved for minors\n",
    "df_2018filtered = df_2018filtered.dropna(subset=[\"Charge Group Description\"])\n",
    "\n",
    "\n",
    "# z score is defined as: z= (x-mean)/std    not that x is the mean age of an arreste for each group and mean is the age mean of the whole population similiar is std the standard deviation for the whole population\n",
    "(df_2018filtered.groupby(\"Charge Group Description\")[\"Age\"].mean()-df_2018filtered[\"Age\"].mean())/df_2018filtered[\"Age\"].std() #this gives the z score for each category \n",
    "max((df_2018filtered.groupby(\"Charge Group Description\")[\"Age\"].mean()-df_2018filtered[\"Age\"].mean())/df_2018filtered[\"Age\"].std()) #the maximum z score has the group Drunkeness with 0.693428"
   ]
  },
  {
   "cell_type": "code",
   "execution_count": 124,
   "metadata": {},
   "outputs": [
    {
     "name": "stderr",
     "output_type": "stream",
     "text": [
      "C:\\ProgramData\\Anaconda3\\lib\\site-packages\\ipykernel_launcher.py:4: UserWarning: Boolean Series key will be reindexed to match DataFrame index.\n",
      "  after removing the cwd from sys.path.\n"
     ]
    },
    {
     "name": "stdout",
     "output_type": "stream",
     "text": [
      "31038.0\n"
     ]
    },
    {
     "data": {
      "image/png": "[encoded data removed]",
      "text/plain": [
       "<Figure size 432x288 with 1 Axes>"
      ]
     },
     "metadata": {
      "needs_background": "light"
     },
     "output_type": "display_data"
    }
   ],
   "source": [
    "#5 Felony arrest incidents have been dropping over the years. Using a trend line (linear estimation) for the data from 2010 and 2018 (inclusive), what is the projected number of felony arrests in 2019? Round to the\n",
    "#  nearest integer. Note, the data set includes arrests for misdemeanor, felonies, etc.\n",
    "df_F = df[df[\"Arrest Type Code\"] == \"F\"]\n",
    "df_F = df_F[(df_F.arrest_year < \"2019\") & (df.arrest_year >= \"2010\")]\n",
    "df_felonyarrestsperyear = df_F.groupby(df_F[\"arrest_year\"]).size()\n",
    "df_felonyarrestsperyear = pd.DataFrame(df_arrestsperyear).reset_index()\n",
    "\n",
    "reg = linear_model.LinearRegression()\n",
    "reg.fit(df_felonyarrestsperyear[\"arrest_year\"].values.reshape(-1,1), df_felonyarrestsperyear[0])\n",
    "in_sample_predictions = reg.predict(df_felonyarrestsperyear[\"arrest_year\"].values.reshape(-1,1))\n",
    "prediction_2019 = reg.predict(np.array(2019).reshape(-1,1))\n",
    "\n",
    "#plot results\n",
    "plt.scatter(df_felonyarrestsperyear[\"arrest_year\"].values.astype(\"float64\"), df_felonyarrestsperyear[0].values.astype(\"float64\"), color=\"black\")\n",
    "plt.plot(np.arange(2010,2020,1).astype(\"float64\"), reg.predict(np.arange(2010,2020,1).reshape(-1,1)).astype(\"float64\"),  color='blue', linewidth=3)\n",
    "plt.scatter(2019,prediction_2019,color=\"red\")\n",
    "\n",
    "print(round(prediction_2019[0])) #Answer: 31038"
   ]
  },
  {
   "cell_type": "code",
   "execution_count": null,
   "metadata": {},
   "outputs": [],
   "source": [
    "#6 How many arrest incidents occurred within 2 km from the Bradbury Building in 2018? Use (34.050536, -118.247861) for the coordinates of the Bradbury Building . For simplicity, please use the spherical Earth projected\n",
    "#  to a plane equation for calculating distances. Use the radius of the Earth as 6371 km. Note, some arrest records are missing location data and the location is listed as (0, 0). These records should not factor in your calculation.\n",
    "\n",
    "\n",
    "df = df[df.Location != \"(0, 0)\"]\n",
    "df['latlon'] = df.Location.apply(lambda x: x[1:][:-1].split(','))\n",
    "\n",
    "distance_list = []\n",
    "R = 6371\n",
    "lat1 = radians(34.050536)\n",
    "lon1 = radians(-118.247861)\n",
    "\n",
    "\n",
    "for i in df.latlon: \n",
    "    \n",
    "\n",
    "    lat2 = radians(float(i[0]))\n",
    "    lon2 = radians(float(i[1]))\n",
    "    \n",
    "    dist_lat = lat1-lat2\n",
    "    dist_lon = lon1-lon2\n",
    "    meanlat1 = (lat1+lat2)/2\n",
    "    \n",
    "    D = R*sqrt((dist_lat**2)+(cos(meanlat1)*dist_lon)**2)\n",
    "    distance_list.append(D)\n",
    "\n",
    "df[\"distance\"] = distance_list    \n",
    "df_in2kmdistance = df[df.distance <= 2]\n",
    "\n",
    "print(df_in2kmdistance.shape[0]) # Answer: 138694 (138694, 19)"
   ]
  },
  {
   "cell_type": "code",
   "execution_count": null,
   "metadata": {},
   "outputs": [],
   "source": [
    "#7 How many arrest incidents were made per kilometer on Pico Boulevard during 2018? For this question, we will need to estimate the length of Pico Boulevard, which mostly stretches from east to west.\n",
    "#  To estimate the length of Pico Boulevard:\n",
    "#     - Consider all location data which the listed address mentions \"Pico\".\n",
    "#     - Remove outliers by filtering out locations where either the latitude or longitude is 2 standard deviations beyond the mean of the subset of identified points.\n",
    "#     - To estimate the length, calculate the distance from the most western and eastern coordinate points. Use the spherical Earth projected to a plane equation for calculating distances.\n",
    "#   Once you have estimated the length of Pico Boulevard, you can proceed to report the number of arrest incidents per kilometer on Pico Boulevard in 2018.\n",
    "\n",
    "df[\"lat\"] = df.latlon.apply(lambda x: x[0])\n",
    "df[\"lon\"] = df.latlon.apply(lambda x: x[1])\n",
    "df_pico = df[df['Address'].str.contains(\"PICO\")]\n",
    "lat_mean = np.mean(df_pico['lat'].astype(\"float64\").values)\n",
    "lon_mean = np.mean(df_pico['lon'].astype(\"float64\").values)\n",
    "lat_std = np.std(df_pico['lat'].astype(\"float64\").values)\n",
    "lon_std = np.std(df_pico['lon'].astype(\"float64\").values)\n",
    "\n",
    "upper_boundary_lat = lat_mean + lat_std*2\n",
    "lower_boundary_lat = lat_mean - lat_std*2\n",
    "upper_boundary_lon = lon_mean + lon_std*2\n",
    "lower_boundary_lon = lon_mean - lon_std*2\n",
    "\n",
    "df_pico = df_pico[(df_pico.lat.astype(\"float64\") >= lower_boundary_lat) & (df_pico.lat.astype(\"float64\") <= upper_boundary_lat)]\n",
    "df_pico = df_pico[(df_pico.lon.astype(\"float64\") >= lower_boundary_lon) & (df_pico.lon.astype(\"float64\") <= upper_boundary_lon)]\n",
    "\n",
    "\n",
    "#now we need the most western and eastern coordinates assosiated with \"Pico\" most_western -> max(lon) most_eastern -> min(lon)\n",
    "lon_pico1 = radians(float(df_pico.lon.max()))\n",
    "lon_pico2 = radians(float(df_pico.lon.min()))\n",
    "lat_pico1 = radians(float(df_pico[df_pico.lon == df_pico.lon.max()].lat.values[0]))\n",
    "lat_pico2 = radians(float(df_pico[df_pico.lon == df_pico.lon.min()].lat.values[0]))\n",
    "\n",
    "\n",
    "dist_lat_pico = lat_pico1-lat_pico2\n",
    "dist_lon_pico = lon_pico1-lon_pico2\n",
    "meanlat1_pico = (lat_pico1+lat_pico2)/2\n",
    "R = 6371\n",
    "    \n",
    "length_pico_boulevard = R*sqrt((dist_lat_pico**2)+(cos(meanlat1_pico)*dist_lon_pico)**2)\n",
    "\n",
    "print(length_pico_boulevard) #Answer: 37.42871597183754"
   ]
  },
  {
   "cell_type": "code",
   "execution_count": 71,
   "metadata": {},
   "outputs": [
    {
     "name": "stdout",
     "output_type": "stream",
     "text": [
      "3.515076379865202\n"
     ]
    }
   ],
   "source": [
    "#8 Some types of arrest incidents in certain areas occur at a highly disproportionate rate compared to their frequency city-wide. For example, let's say that the rate of larceny arrests (charge group code 6) is 1% in Devonshire (area ID 17).\n",
    "#   This rate may appear low but what if larceny arrests constitute 0.1 % city-wide? The ratio between these two probabilities is 10 and we can say that larceny occurs unusually often in Devonshire (Note, these numbers were made up for illustration purposes).\n",
    "#   Calculate this ratio for all charge group code and area ID pairs. You can view this ratio as the ratio of the conditional probability of an arrest incident of a charge group code given that it occurred in an area ID to the unconditional probability of the arrest incident of a charge group.\n",
    "#   Report the average of the top 5 of the calculated ratio.\n",
    "#   (Consider all records prior to January 1, 2019 ,Some arrest incidents don't have a charge group code. These records should not be considered in your analysis, Arrest incidents for charge group code 99 should not be considered in your analysis.)\n",
    "\n",
    "# df_f stands for dataframe filtered\n",
    "\n",
    "#df[\"Arrest Date\"] = pd.to_datetime(df['Arrest Date']) \n",
    "df_f = df[(df[\"Arrest Date\"] < \"2019-01-01\")]\n",
    "df_f = df_f.dropna(subset=[\"Charge Group Code\"])\n",
    "df_f = df_f[df_f[\"Charge Group Code\"] != 99]\n",
    "\n",
    "ratio_list = []\n",
    "number_of_incidents = df_f.shape[0]\n",
    "for i in df_f[\"Charge Group Code\"].unique():\n",
    "    number_of_incidents_chargegroup = df_f[df_f[\"Charge Group Code\"] == i].shape[0]\n",
    "    ratio_chargegroup_total = number_of_incidents_chargegroup/number_of_incidents\n",
    "    df_f_chargecode = df_f[df_f[\"Charge Group Code\"] == i]\n",
    "    for j in df_f[\"Area ID\"].unique():\n",
    "        number_of_incidents_area = df_f[df_f[\"Area ID\"] == j].shape[0]\n",
    "        number_of_incidents_area_chargecode = df_f_chargecode[df_f_chargecode[\"Area ID\"] == j].shape[0]\n",
    "        ratio_chargegroup_area = number_of_incidents_area_chargecode/number_of_incidents_area\n",
    "        ratio = ratio_chargegroup_area/ratio_chargegroup_total\n",
    "        #print([i,j], ratio)\n",
    "        ratio_list.append(ratio)\n",
    "print(pd.Series(ratio_list).nlargest(5).mean()) #Answer: 3.515076379865202"
   ]
  }
 ],
 "metadata": {
  "kernelspec": {
   "display_name": "Python 3",
   "language": "python",
   "name": "python3"
  },
  "language_info": {
   "codemirror_mode": {
    "name": "ipython",
    "version": 3
   },
   "file_extension": ".py",
   "mimetype": "text/x-python",
   "name": "python",
   "nbconvert_exporter": "python",
   "pygments_lexer": "ipython3",
   "version": "3.7.3"
  }
 },
 "nbformat": 4,
 "nbformat_minor": 4
}
